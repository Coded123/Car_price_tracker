{
 "cells": [
  {
   "cell_type": "code",
   "execution_count": 1,
   "metadata": {},
   "outputs": [],
   "source": [
    "from urllib.request import urlopen\n",
    "from bs4 import BeautifulSoup"
   ]
  },
  {
   "cell_type": "code",
   "execution_count": 2,
   "metadata": {},
   "outputs": [
    {
     "ename": "AttributeError",
     "evalue": "'NoneType' object has no attribute 'find'",
     "output_type": "error",
     "traceback": [
      "\u001b[1;31m---------------------------------------------------------------------------\u001b[0m",
      "\u001b[1;31mAttributeError\u001b[0m                            Traceback (most recent call last)",
      "\u001b[1;32m~\\AppData\\Local\\Temp\\ipykernel_26876\\3442177265.py\u001b[0m in \u001b[0;36m<module>\u001b[1;34m\u001b[0m\n\u001b[0;32m     19\u001b[0m             \u001b[1;32mfor\u001b[0m \u001b[0mlisting\u001b[0m \u001b[1;32min\u001b[0m \u001b[0mlistings\u001b[0m\u001b[1;33m:\u001b[0m\u001b[1;33m\u001b[0m\u001b[1;33m\u001b[0m\u001b[0m\n\u001b[0;32m     20\u001b[0m                 \u001b[0minformation_container\u001b[0m \u001b[1;33m=\u001b[0m \u001b[0mlisting\u001b[0m\u001b[1;33m.\u001b[0m\u001b[0mfind\u001b[0m\u001b[1;33m(\u001b[0m\u001b[1;34m\"div\"\u001b[0m\u001b[1;33m,\u001b[0m \u001b[1;33m{\u001b[0m\u001b[1;34m\"class\"\u001b[0m\u001b[1;33m:\u001b[0m \u001b[1;34m\"information-container\"\u001b[0m\u001b[1;33m}\u001b[0m\u001b[1;33m)\u001b[0m\u001b[1;33m\u001b[0m\u001b[1;33m\u001b[0m\u001b[0m\n\u001b[1;32m---> 21\u001b[1;33m                 title_container = information_container.find(\"a\", {\n\u001b[0m\u001b[0;32m     22\u001b[0m                     \"class\": \"js-click-handler listing-fpa-link tracking-standard-link\"})\n\u001b[0;32m     23\u001b[0m                 \u001b[0mtitle\u001b[0m \u001b[1;33m=\u001b[0m \u001b[0mtitle_container\u001b[0m\u001b[1;33m.\u001b[0m\u001b[0mtext\u001b[0m\u001b[1;33m\u001b[0m\u001b[1;33m\u001b[0m\u001b[0m\n",
      "\u001b[1;31mAttributeError\u001b[0m: 'NoneType' object has no attribute 'find'"
     ]
    }
   ],
   "source": [
    "# I assume you opened a file object\n",
    "with open('output.txt', 'w') as f:\n",
    "    # for the aston martin, if you want this to be scalable, escape url invalid\n",
    "    # chars using urllib.parse.quote()\n",
    "    makes = [\"ABARTH\", \"AC\", \"AIXAM\", \"ARIEL\", \"ASTON%20MARTIN\", \"AUDI\"]\n",
    "    # make it clear what variables are\n",
    "    for page in range(1, 101):  # here I tested it with 9 pages for speed sake\n",
    "        for make in makes:\n",
    "            # don't overcomplicate variable names; here I believe that an f-string would be appropriate\n",
    "            req_url = f\"https://www.autotrader.co.uk/car-search?sort=distance&\" \\\n",
    "                      f\"postcode=BS247EY&radius=300&onesearchad=Used&onesearchad=Nearly%20New&\" \\\n",
    "                      f\"onesearchad=New&make={make}&page={page}\"\n",
    "            req = urlopen(req_url)\n",
    "            page_html = req.read()\n",
    "            req.close()\n",
    "            page_soup = BeautifulSoup(page_html, \"html.parser\")\n",
    "            # BeautifulSoup.findAll is deprecated use find_all instead\n",
    "            listings = page_soup.find_all(\"li\", {\"class\": \"search-page__result\"})\n",
    "            for listing in listings:\n",
    "                information_container = listing.find(\"div\", {\"class\": \"information-container\"})\n",
    "                title_container = information_container.find(\"a\", {\n",
    "                    \"class\": \"js-click-handler listing-fpa-link tracking-standard-link\"})\n",
    "                title = title_container.text\n",
    "                price = listing.find(\"div\", {\"class\": \"vehicle-price\"}).text\n",
    "                print(\"make:\", make)\n",
    "                print(\"title:\", title)\n",
    "                print(\"price:\", price)\n",
    "                f.write(title.replace(\",\", \"\") + \",\" + price.replace(\",\", \"\") + \"\\n\")\n",
    "            # Solving your issue\n",
    "            # we take the page numbers from the bottom of the page and take the last\n",
    "            # actually here it's the last but one (-2) because the last element would\n",
    "            # be the arrow.\n",
    "            pagination = page_soup.find_all('li', {'class': 'pagination--li'})[-2]\n",
    "            # convert it to int and compare it to the current page\n",
    "            # if it's less than or equal to the current page, remove\n",
    "            # the make from the list.\n",
    "            if int(pagination.text) <= page:\n",
    "                makes.remove(make)"
   ]
  },
  {
   "cell_type": "code",
   "execution_count": null,
   "metadata": {},
   "outputs": [],
   "source": []
  }
 ],
 "metadata": {
  "kernelspec": {
   "display_name": "Python 3.7.11 ('crypto_env')",
   "language": "python",
   "name": "python3"
  },
  "language_info": {
   "codemirror_mode": {
    "name": "ipython",
    "version": 3
   },
   "file_extension": ".py",
   "mimetype": "text/x-python",
   "name": "python",
   "nbconvert_exporter": "python",
   "pygments_lexer": "ipython3",
   "version": "3.7.11"
  },
  "orig_nbformat": 4,
  "vscode": {
   "interpreter": {
    "hash": "70a9a6fc164f963f33f98104034076a23ab12316c054ebd365f18695a5b09a44"
   }
  }
 },
 "nbformat": 4,
 "nbformat_minor": 2
}
